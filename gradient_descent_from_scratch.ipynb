{
 "cells": [
  {
   "cell_type": "code",
   "execution_count": 216,
   "metadata": {},
   "outputs": [],
   "source": [
    "import csv\n",
    "import math\n",
    "\n",
    "def import_data(pathname, train_or_test):\n",
    "    with open(pathname, newline='') as csvfile:\n",
    "        filereader = csv.reader(csvfile, delimiter=',')\n",
    "    \n",
    "        survived = list()\n",
    "        fare = list()\n",
    "        first_class = list()\n",
    "        female_flag = list()\n",
    "\n",
    "        for idx, row in enumerate(filereader):\n",
    "            if idx == 0:\n",
    "                fare_ix = row.index('Fare')\n",
    "                fc_ix = row.index('Pclass')\n",
    "                sex_ix = row.index('Sex')\n",
    "                if train_or_test == 'train':\n",
    "                    surv_ix = row.index('Survived')\n",
    "            if idx != 0:\n",
    "                if train_or_test == 'train':\n",
    "                    survived.append(int(row[surv_ix]))\n",
    "                else:\n",
    "                    survived.append('?')\n",
    "                first_class.append(int(row[fc_ix]=='1'))\n",
    "                try:\n",
    "                    fare.append(float(row[fare_ix]))\n",
    "                except:\n",
    "                    fare.append(14.45) #training data median fare\n",
    "                female_flag.append(int(row[sex_ix]=='female'))\n",
    "\n",
    "                \n",
    "    return survived, fare, first_class, female_flag\n",
    "\n",
    "def sigmoid_function(x):\n",
    "    return 1/(1 + math.exp(-x))\n"
   ]
  },
  {
   "cell_type": "code",
   "execution_count": 218,
   "metadata": {},
   "outputs": [],
   "source": [
    "# import data\n",
    "survived_tr, fare_tr, first_class_tr, female_flag_tr = import_data('titanic_train.csv', 'train')\n",
    "survived_tst, fare_tst, first_class_tst, female_flag_tst = import_data('titanic_test.csv', 'test')"
   ]
  },
  {
   "cell_type": "code",
   "execution_count": 277,
   "metadata": {
    "scrolled": true
   },
   "outputs": [
    {
     "name": "stdout",
     "output_type": "stream",
     "text": [
      "iteration:  0  loss:  0.693 || w1=0.0, w2=0.002, w3=0.005, b=-0.007\n",
      "iteration:  1000  loss:  0.482 || w1=0.227, w2=1.137, w3=2.208, b=-1.596\n",
      "iteration:  2000  loss:  0.477 || w1=0.32, w2=1.416, w3=2.519, b=-1.836\n",
      "iteration:  3000  loss:  0.477 || w1=0.383, w2=1.495, w3=2.593, b=-1.9\n",
      "iteration:  4000  loss:  0.477 || w1=0.436, w2=1.514, w3=2.613, b=-1.92\n",
      "iteration:  5000  loss:  0.477 || w1=0.483, w2=1.516, w3=2.619, b=-1.926\n",
      "iteration:  6000  loss:  0.477 || w1=0.527, w2=1.513, w3=2.62, b=-1.929\n",
      "iteration:  7000  loss:  0.477 || w1=0.568, w2=1.509, w3=2.62, b=-1.93\n",
      "iteration:  8000  loss:  0.477 || w1=0.607, w2=1.504, w3=2.619, b=-1.931\n",
      "iteration:  9000  loss:  0.477 || w1=0.643, w2=1.5, w3=2.618, b=-1.932\n",
      "iteration:  10000  loss:  0.477 || w1=0.678, w2=1.495, w3=2.618, b=-1.933\n"
     ]
    }
   ],
   "source": [
    "# train logistic regression model\n",
    "\n",
    "w1, w2, w3, b = 0, 0, 0, 0 #initialize\n",
    "learning_rate = .06\n",
    "\n",
    "for k in range(10_001):\n",
    "    J, dw1, dw2, dw3, db = 0, 0, 0, 0, 0 #initialize \n",
    "    for i in range(len(survived_tr)):\n",
    "        y  = survived_tr[i]\n",
    "        z  = (w1*(fare_tr[i]/513) + #min max scale fare using train max\n",
    "              w2*first_class_tr[i] + \n",
    "              w3*female_flag_tr[i] + \n",
    "              b)\n",
    "        a  = sigmoid_function(z)\n",
    "        dz = a - y\n",
    "        J   += -(y*math.log(a) + (1-y)*math.log(1-a))\n",
    "        dw1 += (fare_tr[i]/513)*dz \n",
    "        dw2 += first_class_tr[i]*dz\n",
    "        dw3 += female_flag_tr[i]*dz\n",
    "        db  += dz\n",
    "\n",
    "    dw1 /= len(survived_tr)\n",
    "    dw2 /= len(survived_tr)\n",
    "    dw3 /= len(survived_tr)\n",
    "    db  /= len(survived_tr)\n",
    "    J   /= len(survived_tr)\n",
    "\n",
    "    w1 -= learning_rate*(dw1)\n",
    "    w2 -= learning_rate*(dw2)\n",
    "    w3 -= learning_rate*(dw3)\n",
    "    b  -= learning_rate*(db)\n",
    "    \n",
    "    if k%1_000 == 0:\n",
    "        print(\n",
    "            'iteration: ',k,\n",
    "            ' loss: ',round(J,3),\n",
    "            '|| w1={}, w2={}, w3={}, b={}'\n",
    "                .format(round(w1,3),round(w2,3),round(w3,3),round(b,3))\n",
    "             )"
   ]
  },
  {
   "cell_type": "code",
   "execution_count": null,
   "metadata": {},
   "outputs": [],
   "source": []
  },
  {
   "cell_type": "code",
   "execution_count": 199,
   "metadata": {},
   "outputs": [],
   "source": [
    "import numpy as np\n",
    "import pandas as pd\n",
    "import matplotlib.pyplot as plt\n",
    "from sklearn.linear_model import LogisticRegression"
   ]
  },
  {
   "cell_type": "code",
   "execution_count": 259,
   "metadata": {},
   "outputs": [],
   "source": [
    "df1 = pd.read_csv('titanic_train.csv')\n",
    "df2 = pd.read_csv('titanic_test.csv')"
   ]
  },
  {
   "cell_type": "code",
   "execution_count": 260,
   "metadata": {},
   "outputs": [],
   "source": [
    "# do same preprocessing on fare\n",
    "df1.Fare.fillna(14.45, inplace=True)\n",
    "df2.Fare.fillna(14.45, inplace=True)\n",
    "df1['fare'] = df1['Fare']/513\n",
    "df2['fare'] = df2['Fare']/513\n",
    "\n",
    "# first class indicator\n",
    "df1['first_class'] = (df1['Pclass'] == 1).astype(int)\n",
    "df2['first_class'] = (df2['Pclass'] == 1).astype(int)\n",
    "\n",
    "# female indicator\n",
    "df1['female_flag'] = (df1['Sex'] == 'female').astype(int)\n",
    "df2['female_flag'] = (df2['Sex'] == 'female').astype(int)"
   ]
  },
  {
   "cell_type": "code",
   "execution_count": 261,
   "metadata": {},
   "outputs": [],
   "source": [
    "X_train = df1.loc[:, ['fare', 'first_class', 'female_flag']]\n",
    "y_train = df1['Survived']\n",
    "\n",
    "model = LogisticRegression(random_state=333, solver='liblinear')\n",
    "model.fit(X_train, y_train)\n",
    "\n"
   ]
  },
  {
   "cell_type": "markdown",
   "metadata": {},
   "source": [
    "### Logistic regression using sklearn"
   ]
  },
  {
   "cell_type": "code",
   "execution_count": 287,
   "metadata": {},
   "outputs": [
    {
     "name": "stdout",
     "output_type": "stream",
     "text": [
      "w1:  0.6759643072666862\n",
      "w2:  1.3928607842089231\n",
      "w3:  2.4987085910576283\n",
      "b:  -1.8429052148114269\n"
     ]
    }
   ],
   "source": [
    "print('w1: ', model.coef_[0][0])\n",
    "print('w2: ', model.coef_[0][1])\n",
    "print('w3: ', model.coef_[0][2])\n",
    "print('b: ', model.intercept_[0])"
   ]
  },
  {
   "cell_type": "markdown",
   "metadata": {},
   "source": [
    "### Logistic regression from scratch"
   ]
  },
  {
   "cell_type": "code",
   "execution_count": 288,
   "metadata": {},
   "outputs": [
    {
     "name": "stdout",
     "output_type": "stream",
     "text": [
      "w1:  0.6778369918314936\n",
      "w2:  1.4953049780875323\n",
      "w3:  2.6177557917653225\n",
      "b:  -1.9325952928155834\n"
     ]
    }
   ],
   "source": [
    "print('w1: ', w1)\n",
    "print('w2: ', w2)\n",
    "print('w3: ', w3)\n",
    "print('b: ', b)"
   ]
  },
  {
   "cell_type": "code",
   "execution_count": null,
   "metadata": {},
   "outputs": [],
   "source": []
  }
 ],
 "metadata": {
  "kernelspec": {
   "display_name": "Python 3",
   "language": "python",
   "name": "python3"
  },
  "language_info": {
   "codemirror_mode": {
    "name": "ipython",
    "version": 3
   },
   "file_extension": ".py",
   "mimetype": "text/x-python",
   "name": "python",
   "nbconvert_exporter": "python",
   "pygments_lexer": "ipython3",
   "version": "3.7.4"
  }
 },
 "nbformat": 4,
 "nbformat_minor": 2
}
